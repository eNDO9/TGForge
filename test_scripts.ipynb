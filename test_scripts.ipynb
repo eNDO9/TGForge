{
 "cells": [
  {
   "cell_type": "code",
   "execution_count": 29,
   "id": "59c669af-c9cd-4740-bcec-311f74110c69",
   "metadata": {
    "tags": []
   },
   "outputs": [],
   "source": [
    "import pandas as pd"
   ]
  },
  {
   "cell_type": "code",
   "execution_count": 30,
   "id": "04641b2c-8185-4fce-9e2b-8cc49c709346",
   "metadata": {
    "tags": []
   },
   "outputs": [],
   "source": [
    "df = pd.read_csv('messages.csv')"
   ]
  },
  {
   "cell_type": "code",
   "execution_count": 31,
   "id": "5f4c3f38-80a1-4aa2-afb2-1f0d2717dfa9",
   "metadata": {
    "tags": []
   },
   "outputs": [],
   "source": [
    "df = df[df.Channel == 'unity_of_fields']"
   ]
  },
  {
   "cell_type": "code",
   "execution_count": 24,
   "id": "d7534e9a-ad18-49c6-b7df-023e5b294f07",
   "metadata": {
    "tags": []
   },
   "outputs": [],
   "source": [
    "# Convert to datetime\n",
    "df['Message DateTime (UTC)'] = pd.to_datetime(df['Message DateTime (UTC)'])\n",
    "\n",
    "# Extract Year-Month\n",
    "df['Year-Month'] = df['Message DateTime (UTC)'].dt.to_period('M')\n",
    "\n",
    "# Aggregate monthly counts\n",
    "monthly_counts = df.groupby('Year-Month').size().reset_index(name='Count')\n",
    "\n",
    "# Convert 'Year-Month' column to string format for merging\n",
    "monthly_counts['Year-Month'] = monthly_counts['Year-Month'].astype(str)\n",
    "\n",
    "# Generate a full date range covering all months in the dataset\n",
    "full_months = pd.date_range(\n",
    "    start=monthly_counts['Year-Month'].min(),\n",
    "    end=monthly_counts['Year-Month'].max(),\n",
    "    freq='MS'  # Month Start frequency\n",
    ").strftime('%Y-%m')  # Convert to string format to match existing data\n",
    "\n",
    "# Create a complete DataFrame with all months\n",
    "full_months_df = pd.DataFrame({'Year-Month': full_months})\n",
    "\n",
    "# Merge with actual data, filling missing values with 0\n",
    "complete_monthly_counts = full_months_df.merge(monthly_counts, on='Year-Month', how='left').fillna(0)\n",
    "\n",
    "# Convert 'Count' back to integers\n",
    "complete_monthly_counts['Count'] = complete_monthly_counts['Count'].astype(int)"
   ]
  },
  {
   "cell_type": "code",
   "execution_count": 25,
   "id": "c7dddbd3-2768-481c-9c24-771a71050719",
   "metadata": {
    "tags": []
   },
   "outputs": [],
   "source": [
    "# Convert to datetime if not already\n",
    "df['Message DateTime (UTC)'] = pd.to_datetime(df['Message DateTime (UTC)'])\n",
    "\n",
    "# Extract the start of the week (Monday)\n",
    "df['Week'] = df['Message DateTime (UTC)'].dt.to_period('W-SUN').apply(lambda r: r.start_time)\n",
    "\n",
    "# Aggregate weekly counts\n",
    "weekly_counts = df.groupby('Week').size().reset_index(name='Count')\n",
    "\n",
    "# Generate a complete range of weeks\n",
    "full_weeks = pd.date_range(\n",
    "    start=weekly_counts['Week'].min(),\n",
    "    end=weekly_counts['Week'].max(),\n",
    "    freq='W-MON'  # Weekly starting on Monday\n",
    ")\n",
    "\n",
    "# Create a full weeks DataFrame\n",
    "full_weeks_df = pd.DataFrame({'Week': full_weeks})\n",
    "\n",
    "# Merge with actual data, filling missing values with 0\n",
    "complete_weekly_counts = full_weeks_df.merge(weekly_counts, on='Week', how='left').fillna(0)\n",
    "\n",
    "# Convert 'Count' to integers\n",
    "complete_weekly_counts['Count'] = complete_weekly_counts['Count'].astype(int)"
   ]
  },
  {
   "cell_type": "code",
   "execution_count": 33,
   "id": "2d7727e0-e0b1-49de-a9c4-9c695c5a0973",
   "metadata": {
    "tags": []
   },
   "outputs": [],
   "source": [
    "# Convert to datetime if not already\n",
    "df['Message DateTime (UTC)'] = pd.to_datetime(df['Message DateTime (UTC)'])\n",
    "\n",
    "# Extract the date only (without time)\n",
    "df['Date'] = df['Message DateTime (UTC)'].dt.date\n",
    "\n",
    "# Aggregate daily counts\n",
    "daily_counts = df.groupby('Date').size().reset_index(name='Count')\n",
    "\n",
    "# Generate a complete range of dates\n",
    "full_dates = pd.date_range(start=daily_counts['Date'].min(), end=daily_counts['Date'].max())\n",
    "\n",
    "# Create a full dates DataFrame\n",
    "full_dates_df = pd.DataFrame({'Date': full_dates})\n",
    "\n",
    "# Ensure both columns are of type datetime64[ns]\n",
    "full_dates_df['Date'] = pd.to_datetime(full_dates_df['Date'])\n",
    "daily_counts['Date'] = pd.to_datetime(daily_counts['Date'])\n",
    "\n",
    "# Merge with actual data, filling missing values with 0\n",
    "complete_daily_counts = full_dates_df.merge(daily_counts, on='Date', how='left').fillna(0)\n",
    "\n",
    "# Convert 'Count' to integers\n",
    "complete_daily_counts['Count'] = complete_daily_counts['Count'].astype(int)"
   ]
  }
 ],
 "metadata": {
  "kernelspec": {
   "display_name": "Python 3 (ipykernel)",
   "language": "python",
   "name": "python3"
  },
  "language_info": {
   "codemirror_mode": {
    "name": "ipython",
    "version": 3
   },
   "file_extension": ".py",
   "mimetype": "text/x-python",
   "name": "python",
   "nbconvert_exporter": "python",
   "pygments_lexer": "ipython3",
   "version": "3.11.5"
  }
 },
 "nbformat": 4,
 "nbformat_minor": 5
}
